{
 "cells": [
  {
   "cell_type": "code",
   "execution_count": 1,
   "id": "518e712d",
   "metadata": {},
   "outputs": [],
   "source": [
    "from binascii import hexlify, unhexlify\n",
    "import socket\n",
    "from itertools import cycle\n",
    "from noise.connection import NoiseConnection, Keypair\n",
    "from base64 import b64decode"
   ]
  },
  {
   "cell_type": "code",
   "execution_count": 2,
   "id": "258f98ef",
   "metadata": {},
   "outputs": [
    {
     "name": "stdout",
     "output_type": "stream",
     "text": [
      "Accepted connection from ('127.0.0.1', 52288)\n"
     ]
    }
   ],
   "source": [
    "s = socket.socket()\n",
    "s.setsockopt(socket.SOL_SOCKET, socket.SO_REUSEADDR, 1)\n",
    "s.bind(('localhost', 2000))\n",
    "s.listen(1)\n",
    "\n",
    "conn, addr = s.accept()\n",
    "print('Accepted connection from', addr)"
   ]
  },
  {
   "cell_type": "code",
   "execution_count": 3,
   "id": "dd4fed56",
   "metadata": {},
   "outputs": [
    {
     "name": "stdout",
     "output_type": "stream",
     "text": [
      "id [5] b'0003010000'\n"
     ]
    }
   ],
   "source": [
    "id = conn.recv(5)\n",
    "print(f\"id [{len(id)}] {hexlify(id)}\")"
   ]
  },
  {
   "cell_type": "code",
   "execution_count": 4,
   "id": "9bc3b20f",
   "metadata": {},
   "outputs": [
    {
     "name": "stdout",
     "output_type": "stream",
     "text": [
      "s: [44] b'48355a5842565652497947694f576574766d6e744c3849624a667a6731583975682f4a364a674c68786e633d'\n",
      "b: [32] b'1f96570555512321a23967adbe69ed2fc21b25fce0d57f6e87f27a2602e1c677'\n"
     ]
    }
   ],
   "source": [
    "noise = NoiseConnection.from_name(b'Noise_KK_25519_AESGCM_SHA256')\n",
    "noise.set_as_responder()\n",
    "\n",
    "server_privkey = \"../../../noiseprotocol/examples/noise-keys/server_key_25519\"\n",
    "client_pubkey = \"../../../noiseprotocol/examples/noise-keys/client_key_25519.pub\"\n",
    "\n",
    "with open(server_privkey, \"rb\") as f:\n",
    "    noise.set_keypair_from_private_bytes(Keypair.STATIC, f.read())\n",
    "with open(client_pubkey, \"rb\") as f:\n",
    "    s = f.read()\n",
    "    print(f\"s: [{len(s)}] {hexlify(s)}\")\n",
    "    b = b64decode(s)\n",
    "    print(f\"b: [{len(b)}] {hexlify(b)}\")\n",
    "    noise.set_keypair_from_public_bytes(Keypair.REMOTE_STATIC, b)\n",
    "                                         \n",
    "# noise.set_keypair_from_private_path(Keypair.STATIC, \"../../../noiseprotocol/examples/noise-keys/server_key_25519\")\n",
    "# noise.set_keypair_from_private_path(Keypair.REMOTE_STATIC, \"../../../noiseprotocol/examples/noise-keys/client_key_25519\")\n",
    "noise.set_prologue(id)\n",
    "\n",
    "noise.start_handshake()"
   ]
  },
  {
   "cell_type": "code",
   "execution_count": 5,
   "id": "ac29b231",
   "metadata": {},
   "outputs": [],
   "source": [
    "def analyze_incoming_msg(b):\n",
    "    return (b[0] << 8) | b[1], b[2:]\n",
    "\n",
    "def compose_outgoing_msg(b):\n",
    "    return len(b).to_bytes(2, \"big\") + b"
   ]
  },
  {
   "cell_type": "code",
   "execution_count": 6,
   "id": "c073a74e",
   "metadata": {},
   "outputs": [
    {
     "name": "stdout",
     "output_type": "stream",
     "text": [
      "data [48] b'b6f7c25706eb0cd64329a1488b8dd08d3c7b6e753dc6a515db0e290329a1e400f61aa86c3b8c5d8f7ab0c50d0dc75fd2'\n",
      "plaintext [0] b''\n",
      "ciphertext [48] b'aa2e1845ec30cf31a24a00073748c90cb01b963e9b7c7f2f0986cdf8b3d2ba696640fb511fcef42c9c1dce431e1cb659'\n"
     ]
    }
   ],
   "source": [
    "# Perform handshake. Break when finished\n",
    "for action in cycle(['receive', 'send']):\n",
    "    if noise.handshake_finished:\n",
    "        break\n",
    "    elif action == 'send':\n",
    "        ciphertext = noise.write_message()\n",
    "        print(f\"ciphertext [{len(ciphertext)}] {hexlify(ciphertext)}\")\n",
    "        conn.sendall(compose_outgoing_msg(ciphertext))\n",
    "    elif action == 'receive':\n",
    "        d = conn.recv(2048)\n",
    "        data_size, data = analyze_incoming_msg(d)\n",
    "        print(f\"data [{data_size}] {hexlify(data)}\")\n",
    "        plaintext = noise.read_message(data)\n",
    "        print(f\"plaintext [{len(plaintext)}] {hexlify(plaintext)}\")\n",
    "        "
   ]
  },
  {
   "cell_type": "code",
   "execution_count": null,
   "id": "ecb7bc3e",
   "metadata": {},
   "outputs": [],
   "source": [
    "# Endless loop \"echoing\" received data\n",
    "while True:\n",
    "    d = conn.recv(2048)\n",
    "    data_size, data = analyze_incoming_msg(d)\n",
    "    print(f\"data [{data_size}] {hexlify(data)}\")    \n",
    "    if not data:\n",
    "        break\n",
    "    received = noise.decrypt(data)\n",
    "    conn.sendall(compose_outgoing_msg(noise.encrypt(received)))"
   ]
  }
 ],
 "metadata": {
  "kernelspec": {
   "display_name": "Python 3 (ipykernel)",
   "language": "python",
   "name": "python3"
  },
  "language_info": {
   "codemirror_mode": {
    "name": "ipython",
    "version": 3
   },
   "file_extension": ".py",
   "mimetype": "text/x-python",
   "name": "python",
   "nbconvert_exporter": "python",
   "pygments_lexer": "ipython3",
   "version": "3.8.10"
  }
 },
 "nbformat": 4,
 "nbformat_minor": 5
}
